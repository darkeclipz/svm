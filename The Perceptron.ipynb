{
 "cells": [
  {
   "cell_type": "code",
   "execution_count": 2,
   "metadata": {},
   "outputs": [
    {
     "name": "stdout",
     "output_type": "stream",
     "text": [
      "Populating the interactive namespace from numpy and matplotlib\n"
     ]
    }
   ],
   "source": [
    "%pylab inline"
   ]
  },
  {
   "cell_type": "markdown",
   "metadata": {},
   "source": [
    "Given a training set $\\mathcal{D}$ of $m\\ n$-dimensional training examples $(\\mathbf{x}_i, y_i)$, the **Perceptron Learning Algorithm** (PLA) tries to find a hypothesis function $h$ that predicts the label $y_i$ of every $\\mathbf{x}_i$ correctly.\n",
    "\n",
    "The hypothesis function of the Perceptron is $h(\\mathbf{x}) = \\mathrm{sign}(\\mathbf{x} \\cdot \\mathbf{b})$. The set $\\mathcal{H}$ of hypothesis functions is the set of $n-1$ dimensional hyperplanes."
   ]
  },
  {
   "cell_type": "code",
   "execution_count": 3,
   "metadata": {},
   "outputs": [],
   "source": [
    "def hypothesis(x, w):\n",
    "    return np.sign(np.dot(x, w))"
   ]
  },
  {
   "cell_type": "code",
   "execution_count": 4,
   "metadata": {},
   "outputs": [],
   "source": [
    "def predict(hypothesis_function, X, y, w):\n",
    "    predictions = np.apply_along_axis(hypothesis_function, 1, X, w)\n",
    "    misclassified = X[y != predictions]\n",
    "    return misclassified"
   ]
  },
  {
   "cell_type": "code",
   "execution_count": 5,
   "metadata": {},
   "outputs": [],
   "source": [
    "def pick_one_from(misclassified_examples, X, y):\n",
    "    np.random.shuffle(misclassified_examples)\n",
    "    x = misclassified_examples[0]\n",
    "    index = np.where(np.all(X == x, axis=1))\n",
    "    return x, y[index]"
   ]
  },
  {
   "cell_type": "code",
   "execution_count": 36,
   "metadata": {},
   "outputs": [],
   "source": [
    "def update_rule(expected_y, w, x):\n",
    "    if expected_y == 1:\n",
    "        w = w + x\n",
    "    else: \n",
    "        w = w - x\n",
    "    return w"
   ]
  },
  {
   "cell_type": "code",
   "execution_count": 165,
   "metadata": {},
   "outputs": [],
   "source": [
    "def perceptron_learning_algorithm(X, y):\n",
    "    w = np.random.rand(3)\n",
    "    w[2] = -1\n",
    "    correct = []\n",
    "    misclassified_examples = predict(hypothesis, X, y, w)\n",
    "    while misclassified_examples.any():\n",
    "        if len(correct) > 1000:\n",
    "            raise('Data is not linearly seperable in 1000 steps.')\n",
    "        x, expected_y = pick_one_from(misclassified_examples, X, y)\n",
    "        w = update_rule(expected_y, w, x)\n",
    "        misclassified_examples = predict(hypothesis, X, y, w)\n",
    "        correct.append(len(misclassified_examples))\n",
    "    return w, correct"
   ]
  },
  {
   "cell_type": "code",
   "execution_count": 166,
   "metadata": {},
   "outputs": [],
   "source": [
    "def color(X):\n",
    "    return ['b' if x == 1 else 'r' for x in X]\n",
    "\n",
    "def marker(X):\n",
    "    return ['x' if x == 1 else '+' for x in X]"
   ]
  },
  {
   "cell_type": "code",
   "execution_count": 177,
   "metadata": {},
   "outputs": [
    {
     "name": "stdout",
     "output_type": "stream",
     "text": [
      "[ True  True  True  True  True  True  True  True  True  True]\n",
      "[-13.55775749   1.96280076   2.48193923]\n"
     ]
    },
    {
     "data": {
      "text/plain": [
       "Text(0, 0.5, 'Misclassified')"
      ]
     },
     "execution_count": 177,
     "metadata": {},
     "output_type": "execute_result"
    },
    {
     "data": {
      "image/png": "[encoded data removed]",
      "text/plain": [
       "<Figure size 576x576 with 1 Axes>"
      ]
     },
     "metadata": {
      "needs_background": "light"
     },
     "output_type": "display_data"
    },
    {
     "data": {
      "image/png": "[encoded data removed]",
      "text/plain": [
       "<Figure size 576x360 with 1 Axes>"
      ]
     },
     "metadata": {
      "needs_background": "light"
     },
     "output_type": "display_data"
    }
   ],
   "source": [
    "N = 5\n",
    "a = [list(np.random.rand(2)*3 + 0.25) for _ in range(N)]\n",
    "b = [list(np.random.rand(2)*3 + 3) for _ in range(N)]\n",
    "X = np.array(a + b)\n",
    "\n",
    "y = np.array([-1] * N + [1] * N)\n",
    "X_augmented = np.c_[np.ones(X.shape[0]), X]\n",
    "w, misclassifed_count = perceptron_learning_algorithm(X_augmented, y)\n",
    "\n",
    "plt.figure(figsize=(8,8))\n",
    "ax = plt.gca()\n",
    "lim = [0, 7]\n",
    "ax.set_xlim(lim)\n",
    "ax.set_ylim(lim)\n",
    "lx = np.array(ax.get_xlim())\n",
    "ly = (-w[1]/w[2]) * np.array(lim) - (w[0] / w[2])\n",
    "\n",
    "scatter(X[:,0], X[:,1], c=color(y), marker='+', lw=1, s=100)\n",
    "plot(lx, ly, ls='dashed', c='gray')\n",
    "\n",
    "print(hypothesis(X_augmented, w) == y)\n",
    "print(w)\n",
    "\n",
    "plt.figure(figsize=(8,5))\n",
    "step(range(len(misclassifed_count)), misclassifed_count, c='black')\n",
    "title('# of misclassifications by iterations')\n",
    "xlabel('Iteration')\n",
    "ylabel('Misclassified')"
   ]
  },
  {
   "cell_type": "markdown",
   "metadata": {},
   "source": [
    "To convert the hyperplane back to a point-slope form line, let $\\mathbf{w} = (w_0, w_1, w_2)^T$, and $\\mathbf{x} = (1, x, y)^T$, then:\n",
    "\n",
    "$$ (w_0, w_1, w_2) \\cdot (1, x, y)^T = 0 \\\\\n",
    " w_0 + w_1x + w_2y = 0 \\\\\n",
    " w_2y = -w_1x - w_0 \\\\\n",
    " y = -\\frac{w_1}{w_2}x-\\frac{w_0}{w_2}.$$"
   ]
  }
 ],
 "metadata": {
  "kernelspec": {
   "display_name": "Python 3",
   "language": "python",
   "name": "python3"
  },
  "language_info": {
   "codemirror_mode": {
    "name": "ipython",
    "version": 3
   },
   "file_extension": ".py",
   "mimetype": "text/x-python",
   "name": "python",
   "nbconvert_exporter": "python",
   "pygments_lexer": "ipython3",
   "version": "3.7.4"
  }
 },
 "nbformat": 4,
 "nbformat_minor": 2
}
