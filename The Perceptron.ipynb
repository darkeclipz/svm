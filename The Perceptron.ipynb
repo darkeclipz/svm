{
 "cells": [
  {
   "cell_type": "code",
   "execution_count": 1,
   "metadata": {},
   "outputs": [
    {
     "name": "stdout",
     "output_type": "stream",
     "text": [
      "Populating the interactive namespace from numpy and matplotlib\n"
     ]
    }
   ],
   "source": [
    "%pylab inline"
   ]
  },
  {
   "cell_type": "markdown",
   "metadata": {},
   "source": [
    "Given a training set $\\mathcal{D}$ of $m\\ n$-dimensional training examples $(\\mathbf{x}_i, y_i)$, the **Perceptron Learning Algorithm** (PLA) tries to find a hypothesis function $h$ that predicts the label $y_i$ of every $\\mathbf{x}_i$ correctly.\n",
    "\n",
    "The hypothesis function of the Perceptron is $h(\\mathbf{x}) = \\mathrm{sign}(\\mathbf{x} \\cdot \\mathbf{b})$. The set $\\mathcal{H}$ of hypothesis functions is the set of $n-1$ dimensional hyperplanes."
   ]
  },
  {
   "cell_type": "code",
   "execution_count": 3,
   "metadata": {},
   "outputs": [],
   "source": [
    "def hypothesis(x, w):\n",
    "    return np.sign(np.dot(x, w))"
   ]
  },
  {
   "cell_type": "code",
   "execution_count": 4,
   "metadata": {},
   "outputs": [],
   "source": [
    "def predict(hypothesis_function, X, y, w):\n",
    "    predictions = np.apply_along_axis(hypothesis_function, 1, X, w)\n",
    "    misclassified = X[y != predictions]\n",
    "    return misclassified"
   ]
  },
  {
   "cell_type": "code",
   "execution_count": 5,
   "metadata": {},
   "outputs": [],
   "source": [
    "def pick_one_from(misclassified_examples, X, y):\n",
    "    np.random.shuffle(misclassified_examples)\n",
    "    x = misclassified_examples[0]\n",
    "    index = np.where(np.all(X == x, axis=1))\n",
    "    return x, y[index]"
   ]
  },
  {
   "cell_type": "code",
   "execution_count": 99,
   "metadata": {},
   "outputs": [],
   "source": [
    "def perceptron_learning_algorithm(X, y):\n",
    "    w = np.random.rand(3)\n",
    "    misclassified_examples = predict(hypothesis, X, y, w)\n",
    "    \n",
    "    while misclassified_examples.any():\n",
    "        x, expected_y = pick_one_from(misclassified_examples, X, y)\n",
    "        w = w + x * expected_y\n",
    "        misclassified_examples = predict(hypothesis, X, y, w)\n",
    "        \n",
    "    return w"
   ]
  },
  {
   "cell_type": "code",
   "execution_count": 238,
   "metadata": {},
   "outputs": [],
   "source": [
    "def color(X):\n",
    "    return ['b' if x == 1 else 'r' for x in X]\n",
    "\n",
    "def marker(X):\n",
    "    return ['x' if x == 1 else '+' for x in X]"
   ]
  },
  {
   "cell_type": "code",
   "execution_count": 300,
   "metadata": {},
   "outputs": [
    {
     "data": {
      "image/png": "[encoded data removed]",
      "text/plain": [
       "<Figure size 576x576 with 1 Axes>"
      ]
     },
     "metadata": {
      "needs_background": "light"
     },
     "output_type": "display_data"
    }
   ],
   "source": [
    "N = 5\n",
    "a = [list(np.random.rand(2)*3) for _ in range(N)]\n",
    "b = [list(np.random.rand(2)*3 + 3) for _ in range(N)]\n",
    "X = np.array(a + b)\n",
    "\n",
    "y = np.array([-1] * N + [1] * N)\n",
    "X_augmented = np.c_[np.ones(X.shape[0]), X]\n",
    "w = perceptron_learning_algorithm(X_augmented, y)\n",
    "\n",
    "plt.figure(figsize=(8,8))\n",
    "ax = plt.gca()\n",
    "d = 10\n",
    "ax.set_xlim([-d,d])\n",
    "ax.set_ylim([-d,d])\n",
    "lx = np.array(ax.get_xlim())\n",
    "ly = w[1] * x + w[0]\n",
    "scatter(X[:,0], X[:,1], c=color(y), marker='+', lw=1, s=100)\n",
    "plot(lx, ly, ls='dashed', c='gray')\n",
    "axhline(0); axvline(0)\n",
    "grid()"
   ]
  },
  {
   "cell_type": "code",
   "execution_count": 267,
   "metadata": {},
   "outputs": [
    {
     "data": {
      "text/plain": [
       "(array([[1.        , 0.62308014, 0.75312567],\n",
       "        [1.        , 0.81083336, 1.53507021],\n",
       "        [1.        , 0.88788717, 1.61507974],\n",
       "        [1.        , 2.96148884, 1.96850905],\n",
       "        [1.        , 1.49174068, 0.03474701],\n",
       "        [1.        , 4.96370655, 3.017238  ],\n",
       "        [1.        , 5.21399411, 4.20825911],\n",
       "        [1.        , 5.80338145, 3.56772631],\n",
       "        [1.        , 5.56422838, 5.80124721],\n",
       "        [1.        , 3.25101176, 5.11285436]]),\n",
       " array([-1, -1, -1, -1, -1,  1,  1,  1,  1,  1]))"
      ]
     },
     "execution_count": 267,
     "metadata": {},
     "output_type": "execute_result"
    }
   ],
   "source": [
    "X_augmented, y"
   ]
  },
  {
   "cell_type": "code",
   "execution_count": null,
   "metadata": {},
   "outputs": [],
   "source": []
  }
 ],
 "metadata": {
  "kernelspec": {
   "display_name": "Python 3",
   "language": "python",
   "name": "python3"
  },
  "language_info": {
   "codemirror_mode": {
    "name": "ipython",
    "version": 3
   },
   "file_extension": ".py",
   "mimetype": "text/x-python",
   "name": "python",
   "nbconvert_exporter": "python",
   "pygments_lexer": "ipython3",
   "version": "3.7.4"
  }
 },
 "nbformat": 4,
 "nbformat_minor": 2
}
